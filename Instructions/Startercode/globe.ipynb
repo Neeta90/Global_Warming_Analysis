{
 "cells": [
  {
   "cell_type": "code",
   "execution_count": 5,
   "metadata": {},
   "outputs": [
    {
     "data": {
      "text/html": [
       "        <script type=\"text/javascript\">\n",
       "        window.PlotlyConfig = {MathJaxConfig: 'local'};\n",
       "        if (window.MathJax) {MathJax.Hub.Config({SVG: {font: \"STIX-Web\"}});}\n",
       "        if (typeof require !== 'undefined') {\n",
       "        require.undef(\"plotly\");\n",
       "        requirejs.config({\n",
       "            paths: {\n",
       "                'plotly': ['https://cdn.plot.ly/plotly-latest.min']\n",
       "            }\n",
       "        });\n",
       "        require(['plotly'], function(Plotly) {\n",
       "            window._Plotly = Plotly;\n",
       "        });\n",
       "        }\n",
       "        </script>\n",
       "        "
      ]
     },
     "metadata": {},
     "output_type": "display_data"
    }
   ],
   "source": [
    "import numpy as np\n",
    "import pandas as pd\n",
    "import matplotlib.pyplot as plt\n",
    "%matplotlib inline\n",
    "import plotly.offline as py\n",
    "py.init_notebook_mode(connected=True)\n",
    "import plotly.graph_objs as go\n",
    "import plotly.tools as tls\n",
    "import seaborn as sns\n",
    "import time\n",
    "import warnings\n",
    "warnings.filterwarnings('ignore')\n",
    "\n"
   ]
  },
  {
   "cell_type": "code",
   "execution_count": 12,
   "metadata": {},
   "outputs": [
    {
     "data": {
      "text/html": [
       "<div>\n",
       "<style scoped>\n",
       "    .dataframe tbody tr th:only-of-type {\n",
       "        vertical-align: middle;\n",
       "    }\n",
       "\n",
       "    .dataframe tbody tr th {\n",
       "        vertical-align: top;\n",
       "    }\n",
       "\n",
       "    .dataframe thead th {\n",
       "        text-align: right;\n",
       "    }\n",
       "</style>\n",
       "<table border=\"1\" class=\"dataframe\">\n",
       "  <thead>\n",
       "    <tr style=\"text-align: right;\">\n",
       "      <th></th>\n",
       "      <th>code</th>\n",
       "      <th>dt</th>\n",
       "      <th>AverageTemperature</th>\n",
       "      <th>AverageTemperatureUncertainty</th>\n",
       "      <th>Country</th>\n",
       "    </tr>\n",
       "  </thead>\n",
       "  <tbody>\n",
       "    <tr>\n",
       "      <th>0</th>\n",
       "      <td>AE</td>\n",
       "      <td>1/1/1900</td>\n",
       "      <td>17.651</td>\n",
       "      <td>0.992</td>\n",
       "      <td>United Arab Emirates</td>\n",
       "    </tr>\n",
       "    <tr>\n",
       "      <th>1</th>\n",
       "      <td>AE</td>\n",
       "      <td>2/1/1900</td>\n",
       "      <td>19.706</td>\n",
       "      <td>0.802</td>\n",
       "      <td>United Arab Emirates</td>\n",
       "    </tr>\n",
       "    <tr>\n",
       "      <th>2</th>\n",
       "      <td>AE</td>\n",
       "      <td>3/1/1900</td>\n",
       "      <td>24.145</td>\n",
       "      <td>0.643</td>\n",
       "      <td>United Arab Emirates</td>\n",
       "    </tr>\n",
       "    <tr>\n",
       "      <th>3</th>\n",
       "      <td>AE</td>\n",
       "      <td>4/1/1900</td>\n",
       "      <td>28.777</td>\n",
       "      <td>0.510</td>\n",
       "      <td>United Arab Emirates</td>\n",
       "    </tr>\n",
       "    <tr>\n",
       "      <th>4</th>\n",
       "      <td>AE</td>\n",
       "      <td>5/1/1900</td>\n",
       "      <td>31.070</td>\n",
       "      <td>0.811</td>\n",
       "      <td>United Arab Emirates</td>\n",
       "    </tr>\n",
       "  </tbody>\n",
       "</table>\n",
       "</div>"
      ],
      "text/plain": [
       "  code        dt  AverageTemperature  AverageTemperatureUncertainty  \\\n",
       "0   AE  1/1/1900              17.651                          0.992   \n",
       "1   AE  2/1/1900              19.706                          0.802   \n",
       "2   AE  3/1/1900              24.145                          0.643   \n",
       "3   AE  4/1/1900              28.777                          0.510   \n",
       "4   AE  5/1/1900              31.070                          0.811   \n",
       "\n",
       "                Country  \n",
       "0  United Arab Emirates  \n",
       "1  United Arab Emirates  \n",
       "2  United Arab Emirates  \n",
       "3  United Arab Emirates  \n",
       "4  United Arab Emirates  "
      ]
     },
     "execution_count": 12,
     "metadata": {},
     "output_type": "execute_result"
    }
   ],
   "source": [
    "global_temp_country = pd.read_csv('data/GlobalLandTemperaturesByCountry-cleaned.csv')\n",
    "global_temp_country.head()"
   ]
  },
  {
   "cell_type": "code",
   "execution_count": 7,
   "metadata": {},
   "outputs": [
    {
     "data": {
      "application/vnd.plotly.v1+json": {
       "config": {
        "linkText": "Export to plot.ly",
        "plotlyServerURL": "https://plot.ly",
        "showLink": false
       },
       "data": [
        {
         "colorbar": {
          "autotick": true,
          "tickprefix": "",
          "title": "# Average\nTemperature,\n°C"
         },
         "locationmode": "country names",
         "locations": [
          "Afghanistan",
          "Albania",
          "Algeria",
          "Angola",
          "Anguilla",
          "Antigua And Barbuda",
          "Argentina",
          "Armenia",
          "Aruba",
          "Australia",
          "Austria",
          "Bahamas",
          "Bahrain",
          "Bangladesh",
          "Barbados",
          "Belarus",
          "Belgium",
          "Bhutan",
          "Bolivia",
          "Botswana",
          "Brazil",
          "Bulgaria",
          "Burundi",
          "Cambodia",
          "Cameroon",
          "Canada",
          "Cayman Islands",
          "Chile",
          "China",
          "Colombia",
          "Congo",
          "Costa Rica",
          "Cuba",
          "Cyprus",
          "Czech Republic",
          "Dominican Republic",
          "Ecuador",
          "Egypt",
          "El Salvador",
          "Ethiopia",
          "Fiji",
          "Finland",
          "Gambia",
          "Germany",
          "Ghana",
          "Greece",
          "Guadeloupe",
          "Guatemala",
          "Guinea",
          "Haiti",
          "Honduras",
          "Hungary",
          "Iceland",
          "India",
          "Indonesia",
          "Iran",
          "Iraq",
          "Ireland",
          "Israel",
          "Italy",
          "Jamaica",
          "Japan",
          "Jordan",
          "Kazakhstan",
          "Kenya",
          "Kuwait",
          "Lebanon",
          "Libya",
          "Lithuania",
          "Madagascar",
          "Malawi",
          "Malaysia",
          "Malta",
          "Mauritius",
          "Mexico",
          "Moldova",
          "Mongolia",
          "Morocco",
          "Mozambique",
          "Myanmar",
          "Namibia",
          "Nepal",
          "New Zealand",
          "Nicaragua",
          "Nigeria",
          "Norway",
          "Oman",
          "Pakistan",
          "Panama",
          "Paraguay",
          "Peru",
          "Philippines",
          "Poland",
          "Portugal",
          "Qatar",
          "Romania",
          "Russia",
          "Rwanda",
          "Saudi Arabia",
          "Seychelles",
          "Singapore",
          "Somalia",
          "South Africa",
          "South Korea",
          "Spain",
          "Sri Lanka",
          "Sudan",
          "Sweden",
          "Switzerland",
          "Syria",
          "Tanzania",
          "Thailand",
          "Tunisia",
          "Turkey",
          "Uganda",
          "Ukraine",
          "United Arab Emirates",
          "United States",
          "Uzbekistan",
          "Venezuela",
          "Vietnam",
          "Yemen",
          "Zambia",
          "Zimbabwe"
         ],
         "marker": {
          "line": {
           "color": "rgb(0,0,0)",
           "width": 1
          }
         },
         "text": [
          "Afghanistan",
          "Albania",
          "Algeria",
          "Angola",
          "Anguilla",
          "Antigua And Barbuda",
          "Argentina",
          "Armenia",
          "Aruba",
          "Australia",
          "Austria",
          "Bahamas",
          "Bahrain",
          "Bangladesh",
          "Barbados",
          "Belarus",
          "Belgium",
          "Bhutan",
          "Bolivia",
          "Botswana",
          "Brazil",
          "Bulgaria",
          "Burundi",
          "Cambodia",
          "Cameroon",
          "Canada",
          "Cayman Islands",
          "Chile",
          "China",
          "Colombia",
          "Congo",
          "Costa Rica",
          "Cuba",
          "Cyprus",
          "Czech Republic",
          "Dominican Republic",
          "Ecuador",
          "Egypt",
          "El Salvador",
          "Ethiopia",
          "Fiji",
          "Finland",
          "Gambia",
          "Germany",
          "Ghana",
          "Greece",
          "Guadeloupe",
          "Guatemala",
          "Guinea",
          "Haiti",
          "Honduras",
          "Hungary",
          "Iceland",
          "India",
          "Indonesia",
          "Iran",
          "Iraq",
          "Ireland",
          "Israel",
          "Italy",
          "Jamaica",
          "Japan",
          "Jordan",
          "Kazakhstan",
          "Kenya",
          "Kuwait",
          "Lebanon",
          "Libya",
          "Lithuania",
          "Madagascar",
          "Malawi",
          "Malaysia",
          "Malta",
          "Mauritius",
          "Mexico",
          "Moldova",
          "Mongolia",
          "Morocco",
          "Mozambique",
          "Myanmar",
          "Namibia",
          "Nepal",
          "New Zealand",
          "Nicaragua",
          "Nigeria",
          "Norway",
          "Oman",
          "Pakistan",
          "Panama",
          "Paraguay",
          "Peru",
          "Philippines",
          "Poland",
          "Portugal",
          "Qatar",
          "Romania",
          "Russia",
          "Rwanda",
          "Saudi Arabia",
          "Seychelles",
          "Singapore",
          "Somalia",
          "South Africa",
          "South Korea",
          "Spain",
          "Sri Lanka",
          "Sudan",
          "Sweden",
          "Switzerland",
          "Syria",
          "Tanzania",
          "Thailand",
          "Tunisia",
          "Turkey",
          "Uganda",
          "Ukraine",
          "United Arab Emirates",
          "United States",
          "Uzbekistan",
          "Venezuela",
          "Vietnam",
          "Yemen",
          "Zambia",
          "Zimbabwe"
         ],
         "type": "choropleth",
         "z": [
          14.225853372434033,
          12.885980938416438,
          23.26621187683281,
          21.962348973607035,
          26.811416422287394,
          26.638483137829887,
          14.814848973607019,
          8.898997067448686,
          28.12114662756596,
          21.74013416422289,
          6.496020527859243,
          25.321806593406617,
          26.12002785923754,
          25.096755865102647,
          26.662034457478,
          6.155659090909096,
          9.785887829912031,
          12.047171554252195,
          21.063409824046897,
          22.045806451612883,
          24.953523460410537,
          10.768482404692074,
          20.199079178885633,
          26.882248533724347,
          24.514651026392976,
          -4.743583882783885,
          26.934938461538422,
          9.572978005865124,
          6.863369501466282,
          24.92542888563055,
          23.914413489736035,
          25.797812454212462,
          25.61077509157508,
          19.079391495601143,
          7.9259164222874015,
          25.774780952380954,
          21.96163049853373,
          22.91999266862169,
          25.13688424908425,
          23.09928885630499,
          25.140714809384175,
          1.6686107038123152,
          27.69932771260999,
          8.465712609970666,
          26.900848240469205,
          15.048934017595318,
          26.53018548387096,
          23.35293772893776,
          25.647245601173026,
          26.51852820512823,
          24.93348571428571,
          9.998906891495594,
          1.7762052785923792,
          24.149046187683293,
          25.860538123167128,
          17.828978739002924,
          22.072263196480925,
          9.688768328445736,
          19.93921407624635,
          13.01850879765394,
          26.320336996336977,
          12.157538123167164,
          19.66679032258066,
          5.550233137829911,
          24.19888929618769,
          25.31278152492666,
          17.9565967741936,
          22.565621700879777,
          6.253530058651026,
          22.882866568914945,
          21.529648093841672,
          26.032600439882657,
          18.77934457478006,
          23.63898167155427,
          20.77236043956041,
          9.23530865102639,
          -0.5143834310850431,
          17.864281524926696,
          23.704231671554258,
          23.95373973607038,
          20.657989736070366,
          15.053331378299127,
          10.522700146627558,
          26.185670329670316,
          26.908312316715545,
          0.4680835777126105,
          27.026417155425175,
          20.793541788856285,
          26.479690615835818,
          23.479072580645145,
          20.03606451612905,
          26.61715249266864,
          7.775436950146627,
          14.924175219941352,
          26.988087976539596,
          9.05019941348975,
          -5.167612170087973,
          19.37162683284459,
          25.73372434017597,
          26.849497800586498,
          26.752522727272737,
          26.96459824046924,
          17.425219941348978,
          12.060513929618754,
          13.853804985337241,
          27.2133892961877,
          27.218351173020544,
          2.76211217008798,
          7.282969941348968,
          18.256244134897376,
          22.416285923753687,
          26.261277126099706,
          20.25118695014664,
          11.936284457478,
          23.15213782991202,
          7.984655425219943,
          27.87654618768325,
          8.95423443223443,
          12.584542521994155,
          25.234956744868068,
          23.91130498533721,
          26.329659090909068,
          21.39984677419359,
          21.247887829912038
         ]
        }
       ],
       "layout": {
        "geo": {
         "lataxis": {
          "gridcolor": "rgb(102, 102, 102)",
          "showgrid": true
         },
         "lonaxis": {
          "gridcolor": "rgb(102, 102, 102)",
          "showgrid": true
         },
         "oceancolor": "rgb(0,255,255)",
         "projection": {
          "rotation": {
           "lat": 10,
           "lon": 60
          },
          "type": "orthographic"
         },
         "showframe": false,
         "showocean": true
        },
        "title": "Average land temperature in countries"
       }
      },
      "text/html": [
       "<div>\n",
       "        \n",
       "        \n",
       "            <div id=\"20ea52c0-49af-4aaf-9475-e136e94ebd68\" class=\"plotly-graph-div\" style=\"height:525px; width:100%;\"></div>\n",
       "            <script type=\"text/javascript\">\n",
       "                require([\"plotly\"], function(Plotly) {\n",
       "                    window.PLOTLYENV=window.PLOTLYENV || {};\n",
       "                    \n",
       "                if (document.getElementById(\"20ea52c0-49af-4aaf-9475-e136e94ebd68\")) {\n",
       "                    Plotly.newPlot(\n",
       "                        '20ea52c0-49af-4aaf-9475-e136e94ebd68',\n",
       "                        [{\"colorbar\": {\"autotick\": true, \"tickprefix\": \"\", \"title\": \"# Average\\nTemperature,\\n\\u00b0C\"}, \"locationmode\": \"country names\", \"locations\": [\"Afghanistan\", \"Albania\", \"Algeria\", \"Angola\", \"Anguilla\", \"Antigua And Barbuda\", \"Argentina\", \"Armenia\", \"Aruba\", \"Australia\", \"Austria\", \"Bahamas\", \"Bahrain\", \"Bangladesh\", \"Barbados\", \"Belarus\", \"Belgium\", \"Bhutan\", \"Bolivia\", \"Botswana\", \"Brazil\", \"Bulgaria\", \"Burundi\", \"Cambodia\", \"Cameroon\", \"Canada\", \"Cayman Islands\", \"Chile\", \"China\", \"Colombia\", \"Congo\", \"Costa Rica\", \"Cuba\", \"Cyprus\", \"Czech Republic\", \"Dominican Republic\", \"Ecuador\", \"Egypt\", \"El Salvador\", \"Ethiopia\", \"Fiji\", \"Finland\", \"Gambia\", \"Germany\", \"Ghana\", \"Greece\", \"Guadeloupe\", \"Guatemala\", \"Guinea\", \"Haiti\", \"Honduras\", \"Hungary\", \"Iceland\", \"India\", \"Indonesia\", \"Iran\", \"Iraq\", \"Ireland\", \"Israel\", \"Italy\", \"Jamaica\", \"Japan\", \"Jordan\", \"Kazakhstan\", \"Kenya\", \"Kuwait\", \"Lebanon\", \"Libya\", \"Lithuania\", \"Madagascar\", \"Malawi\", \"Malaysia\", \"Malta\", \"Mauritius\", \"Mexico\", \"Moldova\", \"Mongolia\", \"Morocco\", \"Mozambique\", \"Myanmar\", \"Namibia\", \"Nepal\", \"New Zealand\", \"Nicaragua\", \"Nigeria\", \"Norway\", \"Oman\", \"Pakistan\", \"Panama\", \"Paraguay\", \"Peru\", \"Philippines\", \"Poland\", \"Portugal\", \"Qatar\", \"Romania\", \"Russia\", \"Rwanda\", \"Saudi Arabia\", \"Seychelles\", \"Singapore\", \"Somalia\", \"South Africa\", \"South Korea\", \"Spain\", \"Sri Lanka\", \"Sudan\", \"Sweden\", \"Switzerland\", \"Syria\", \"Tanzania\", \"Thailand\", \"Tunisia\", \"Turkey\", \"Uganda\", \"Ukraine\", \"United Arab Emirates\", \"United States\", \"Uzbekistan\", \"Venezuela\", \"Vietnam\", \"Yemen\", \"Zambia\", \"Zimbabwe\"], \"marker\": {\"line\": {\"color\": \"rgb(0,0,0)\", \"width\": 1}}, \"text\": [\"Afghanistan\", \"Albania\", \"Algeria\", \"Angola\", \"Anguilla\", \"Antigua And Barbuda\", \"Argentina\", \"Armenia\", \"Aruba\", \"Australia\", \"Austria\", \"Bahamas\", \"Bahrain\", \"Bangladesh\", \"Barbados\", \"Belarus\", \"Belgium\", \"Bhutan\", \"Bolivia\", \"Botswana\", \"Brazil\", \"Bulgaria\", \"Burundi\", \"Cambodia\", \"Cameroon\", \"Canada\", \"Cayman Islands\", \"Chile\", \"China\", \"Colombia\", \"Congo\", \"Costa Rica\", \"Cuba\", \"Cyprus\", \"Czech Republic\", \"Dominican Republic\", \"Ecuador\", \"Egypt\", \"El Salvador\", \"Ethiopia\", \"Fiji\", \"Finland\", \"Gambia\", \"Germany\", \"Ghana\", \"Greece\", \"Guadeloupe\", \"Guatemala\", \"Guinea\", \"Haiti\", \"Honduras\", \"Hungary\", \"Iceland\", \"India\", \"Indonesia\", \"Iran\", \"Iraq\", \"Ireland\", \"Israel\", \"Italy\", \"Jamaica\", \"Japan\", \"Jordan\", \"Kazakhstan\", \"Kenya\", \"Kuwait\", \"Lebanon\", \"Libya\", \"Lithuania\", \"Madagascar\", \"Malawi\", \"Malaysia\", \"Malta\", \"Mauritius\", \"Mexico\", \"Moldova\", \"Mongolia\", \"Morocco\", \"Mozambique\", \"Myanmar\", \"Namibia\", \"Nepal\", \"New Zealand\", \"Nicaragua\", \"Nigeria\", \"Norway\", \"Oman\", \"Pakistan\", \"Panama\", \"Paraguay\", \"Peru\", \"Philippines\", \"Poland\", \"Portugal\", \"Qatar\", \"Romania\", \"Russia\", \"Rwanda\", \"Saudi Arabia\", \"Seychelles\", \"Singapore\", \"Somalia\", \"South Africa\", \"South Korea\", \"Spain\", \"Sri Lanka\", \"Sudan\", \"Sweden\", \"Switzerland\", \"Syria\", \"Tanzania\", \"Thailand\", \"Tunisia\", \"Turkey\", \"Uganda\", \"Ukraine\", \"United Arab Emirates\", \"United States\", \"Uzbekistan\", \"Venezuela\", \"Vietnam\", \"Yemen\", \"Zambia\", \"Zimbabwe\"], \"type\": \"choropleth\", \"z\": [14.225853372434033, 12.885980938416438, 23.26621187683281, 21.962348973607035, 26.811416422287394, 26.638483137829887, 14.814848973607019, 8.898997067448686, 28.12114662756596, 21.74013416422289, 6.496020527859243, 25.321806593406617, 26.12002785923754, 25.096755865102647, 26.662034457478, 6.155659090909096, 9.785887829912031, 12.047171554252195, 21.063409824046897, 22.045806451612883, 24.953523460410537, 10.768482404692074, 20.199079178885633, 26.882248533724347, 24.514651026392976, -4.743583882783885, 26.934938461538422, 9.572978005865124, 6.863369501466282, 24.92542888563055, 23.914413489736035, 25.797812454212462, 25.61077509157508, 19.079391495601143, 7.9259164222874015, 25.774780952380954, 21.96163049853373, 22.91999266862169, 25.13688424908425, 23.09928885630499, 25.140714809384175, 1.6686107038123152, 27.69932771260999, 8.465712609970666, 26.900848240469205, 15.048934017595318, 26.53018548387096, 23.35293772893776, 25.647245601173026, 26.51852820512823, 24.93348571428571, 9.998906891495594, 1.7762052785923792, 24.149046187683293, 25.860538123167128, 17.828978739002924, 22.072263196480925, 9.688768328445736, 19.93921407624635, 13.01850879765394, 26.320336996336977, 12.157538123167164, 19.66679032258066, 5.550233137829911, 24.19888929618769, 25.31278152492666, 17.9565967741936, 22.565621700879777, 6.253530058651026, 22.882866568914945, 21.529648093841672, 26.032600439882657, 18.77934457478006, 23.63898167155427, 20.77236043956041, 9.23530865102639, -0.5143834310850431, 17.864281524926696, 23.704231671554258, 23.95373973607038, 20.657989736070366, 15.053331378299127, 10.522700146627558, 26.185670329670316, 26.908312316715545, 0.4680835777126105, 27.026417155425175, 20.793541788856285, 26.479690615835818, 23.479072580645145, 20.03606451612905, 26.61715249266864, 7.775436950146627, 14.924175219941352, 26.988087976539596, 9.05019941348975, -5.167612170087973, 19.37162683284459, 25.73372434017597, 26.849497800586498, 26.752522727272737, 26.96459824046924, 17.425219941348978, 12.060513929618754, 13.853804985337241, 27.2133892961877, 27.218351173020544, 2.76211217008798, 7.282969941348968, 18.256244134897376, 22.416285923753687, 26.261277126099706, 20.25118695014664, 11.936284457478, 23.15213782991202, 7.984655425219943, 27.87654618768325, 8.95423443223443, 12.584542521994155, 25.234956744868068, 23.91130498533721, 26.329659090909068, 21.39984677419359, 21.247887829912038]}],\n",
       "                        {\"geo\": {\"lataxis\": {\"gridcolor\": \"rgb(102, 102, 102)\", \"showgrid\": true}, \"lonaxis\": {\"gridcolor\": \"rgb(102, 102, 102)\", \"showgrid\": true}, \"oceancolor\": \"rgb(0,255,255)\", \"projection\": {\"rotation\": {\"lat\": 10, \"lon\": 60}, \"type\": \"orthographic\"}, \"showframe\": false, \"showocean\": true}, \"title\": \"Average land temperature in countries\"},\n",
       "                        {\"responsive\": true}\n",
       "                    ).then(function(){\n",
       "                            \n",
       "var gd = document.getElementById('20ea52c0-49af-4aaf-9475-e136e94ebd68');\n",
       "var x = new MutationObserver(function (mutations, observer) {{\n",
       "        var display = window.getComputedStyle(gd).display;\n",
       "        if (!display || display === 'none') {{\n",
       "            console.log([gd, 'removed!']);\n",
       "            Plotly.purge(gd);\n",
       "            observer.disconnect();\n",
       "        }}\n",
       "}});\n",
       "\n",
       "// Listen for the removal of the full notebook cells\n",
       "var notebookContainer = gd.closest('#notebook-container');\n",
       "if (notebookContainer) {{\n",
       "    x.observe(notebookContainer, {childList: true});\n",
       "}}\n",
       "\n",
       "// Listen for the clearing of the current output cell\n",
       "var outputEl = gd.closest('.output');\n",
       "if (outputEl) {{\n",
       "    x.observe(outputEl, {childList: true});\n",
       "}}\n",
       "\n",
       "                        })\n",
       "                };\n",
       "                });\n",
       "            </script>\n",
       "        </div>"
      ]
     },
     "metadata": {},
     "output_type": "display_data"
    },
    {
     "data": {
      "text/plain": [
       "<Figure size 432x288 with 0 Axes>"
      ]
     },
     "metadata": {},
     "output_type": "display_data"
    }
   ],
   "source": [
    "#Let's remove the duplicated countries (in the analysis, we don't consider the presence of \n",
    "#colonies at this the countries) and countries for which no information about the temperature\n",
    "\n",
    "global_temp_country_clear = global_temp_country[~global_temp_country['Country'].isin(\n",
    "    ['Denmark', 'Antarctica', 'France', 'Europe', 'Netherlands',\n",
    "     'United Kingdom', 'Africa', 'South America'])]\n",
    "\n",
    "global_temp_country_clear = global_temp_country_clear.replace(\n",
    "   ['Denmark (Europe)', 'France (Europe)', 'Netherlands (Europe)', 'United Kingdom (Europe)'],\n",
    "   ['Denmark', 'France', 'Netherlands', 'United Kingdom'])\n",
    "\n",
    "#Let's average temperature for each country\n",
    "\n",
    "countries = np.unique(global_temp_country_clear['Country'])\n",
    "mean_temp = []\n",
    "for country in countries:\n",
    "    mean_temp.append(global_temp_country_clear[global_temp_country_clear['Country'] == \n",
    "                                               country]['AverageTemperature'].mean())\n",
    "\n",
    "\n",
    "    \n",
    "data = [ dict(\n",
    "        type = 'choropleth',\n",
    "        locations = countries,\n",
    "        z = mean_temp,\n",
    "    locationmode = 'country names',\n",
    "        text = countries,\n",
    "        marker = dict(\n",
    "            line = dict(color = 'rgb(0,0,0)', width = 1)),\n",
    "            colorbar = dict(autotick = True, tickprefix = '', \n",
    "            title = '# Average\\nTemperature,\\n°C')\n",
    "            )\n",
    "       ]\n",
    "\n",
    "layout = dict(\n",
    "    title = 'Average land temperature in countries',\n",
    "    geo = dict(\n",
    "        showframe = False,\n",
    "        showocean = True,\n",
    "        oceancolor = 'rgb(0,255,255)',\n",
    "        projection = dict(\n",
    "        type = 'orthographic',\n",
    "            rotation = dict(\n",
    "                    lon = 60,\n",
    "                    lat = 10),\n",
    "        ),\n",
    "        lonaxis =  dict(\n",
    "                showgrid = True,\n",
    "                gridcolor = 'rgb(102, 102, 102)'\n",
    "            ),\n",
    "        lataxis = dict(\n",
    "                showgrid = True,\n",
    "                gridcolor = 'rgb(102, 102, 102)'\n",
    "                )\n",
    "            ),\n",
    "    )\n",
    "\n",
    "fig = dict(data=data, layout=layout)\n",
    "py.iplot(fig, validate=False, filename='worldmap')\n",
    "plt.savefig(\"../Images/globe.png\")"
   ]
  },
  {
   "cell_type": "code",
   "execution_count": 18,
   "metadata": {},
   "outputs": [
    {
     "data": {
      "application/vnd.plotly.v1+json": {
       "config": {
        "linkText": "Export to plot.ly",
        "plotlyServerURL": "https://plot.ly",
        "showLink": false
       },
       "data": [
        {
         "line": {
          "color": "rgb(0, 255, 255)"
         },
         "mode": "lines",
         "name": "Uncertainty top",
         "type": "scatter",
         "x": [
          "1/1/",
          "10/1",
          "11/1",
          "12/1",
          "2/1/",
          "3/1/",
          "4/1/",
          "5/1/",
          "6/1/",
          "7/1/",
          "8/1/",
          "9/1/"
         ],
         "y": [
          13.734077498440291,
          19.687888042168684,
          16.944183170642436,
          14.498266499182492,
          14.67240684495534,
          16.781859915183208,
          19.03862900919097,
          21.283729934496705,
          22.70267528146307,
          23.519688250480115,
          23.466510316858972,
          22.100958474993046
         ]
        },
        {
         "fill": "tonexty",
         "line": {
          "color": "rgb(0, 255, 255)"
         },
         "mode": "lines",
         "name": "Uncertainty bot",
         "type": "scatter",
         "x": [
          "1/1/",
          "10/1",
          "11/1",
          "12/1",
          "2/1/",
          "3/1/",
          "4/1/",
          "5/1/",
          "6/1/",
          "7/1/",
          "8/1/",
          "9/1/"
         ],
         "y": [
          12.795685796515903,
          18.90423695783134,
          16.129474323826603,
          13.610821305021101,
          13.765783670395493,
          15.940565797536149,
          18.221129077431726,
          20.47034942405587,
          21.856504543098115,
          22.67955763767815,
          22.645302046079664,
          21.317279817588823
         ]
        },
        {
         "line": {
          "color": "rgb(199, 121, 093)"
         },
         "name": "Average Temperature",
         "type": "scatter",
         "x": [
          "1/1/",
          "10/1",
          "11/1",
          "12/1",
          "2/1/",
          "3/1/",
          "4/1/",
          "5/1/",
          "6/1/",
          "7/1/",
          "8/1/",
          "9/1/"
         ],
         "y": [
          13.264881647478097,
          19.296062500000012,
          16.53682874723452,
          14.054543902101797,
          14.219095257675416,
          16.36121285635968,
          18.629879043311348,
          20.877039679276287,
          22.279589912280592,
          23.099622944079133,
          23.055906181469318,
          21.709119146290934
         ]
        }
       ],
       "layout": {
        "showlegend": false,
        "template": {
         "data": {
          "bar": [
           {
            "error_x": {
             "color": "#2a3f5f"
            },
            "error_y": {
             "color": "#2a3f5f"
            },
            "marker": {
             "line": {
              "color": "#E5ECF6",
              "width": 0.5
             }
            },
            "type": "bar"
           }
          ],
          "barpolar": [
           {
            "marker": {
             "line": {
              "color": "#E5ECF6",
              "width": 0.5
             }
            },
            "type": "barpolar"
           }
          ],
          "carpet": [
           {
            "aaxis": {
             "endlinecolor": "#2a3f5f",
             "gridcolor": "white",
             "linecolor": "white",
             "minorgridcolor": "white",
             "startlinecolor": "#2a3f5f"
            },
            "baxis": {
             "endlinecolor": "#2a3f5f",
             "gridcolor": "white",
             "linecolor": "white",
             "minorgridcolor": "white",
             "startlinecolor": "#2a3f5f"
            },
            "type": "carpet"
           }
          ],
          "choropleth": [
           {
            "colorbar": {
             "outlinewidth": 0,
             "ticks": ""
            },
            "type": "choropleth"
           }
          ],
          "contour": [
           {
            "colorbar": {
             "outlinewidth": 0,
             "ticks": ""
            },
            "colorscale": [
             [
              0,
              "#0d0887"
             ],
             [
              0.1111111111111111,
              "#46039f"
             ],
             [
              0.2222222222222222,
              "#7201a8"
             ],
             [
              0.3333333333333333,
              "#9c179e"
             ],
             [
              0.4444444444444444,
              "#bd3786"
             ],
             [
              0.5555555555555556,
              "#d8576b"
             ],
             [
              0.6666666666666666,
              "#ed7953"
             ],
             [
              0.7777777777777778,
              "#fb9f3a"
             ],
             [
              0.8888888888888888,
              "#fdca26"
             ],
             [
              1,
              "#f0f921"
             ]
            ],
            "type": "contour"
           }
          ],
          "contourcarpet": [
           {
            "colorbar": {
             "outlinewidth": 0,
             "ticks": ""
            },
            "type": "contourcarpet"
           }
          ],
          "heatmap": [
           {
            "colorbar": {
             "outlinewidth": 0,
             "ticks": ""
            },
            "colorscale": [
             [
              0,
              "#0d0887"
             ],
             [
              0.1111111111111111,
              "#46039f"
             ],
             [
              0.2222222222222222,
              "#7201a8"
             ],
             [
              0.3333333333333333,
              "#9c179e"
             ],
             [
              0.4444444444444444,
              "#bd3786"
             ],
             [
              0.5555555555555556,
              "#d8576b"
             ],
             [
              0.6666666666666666,
              "#ed7953"
             ],
             [
              0.7777777777777778,
              "#fb9f3a"
             ],
             [
              0.8888888888888888,
              "#fdca26"
             ],
             [
              1,
              "#f0f921"
             ]
            ],
            "type": "heatmap"
           }
          ],
          "heatmapgl": [
           {
            "colorbar": {
             "outlinewidth": 0,
             "ticks": ""
            },
            "colorscale": [
             [
              0,
              "#0d0887"
             ],
             [
              0.1111111111111111,
              "#46039f"
             ],
             [
              0.2222222222222222,
              "#7201a8"
             ],
             [
              0.3333333333333333,
              "#9c179e"
             ],
             [
              0.4444444444444444,
              "#bd3786"
             ],
             [
              0.5555555555555556,
              "#d8576b"
             ],
             [
              0.6666666666666666,
              "#ed7953"
             ],
             [
              0.7777777777777778,
              "#fb9f3a"
             ],
             [
              0.8888888888888888,
              "#fdca26"
             ],
             [
              1,
              "#f0f921"
             ]
            ],
            "type": "heatmapgl"
           }
          ],
          "histogram": [
           {
            "marker": {
             "colorbar": {
              "outlinewidth": 0,
              "ticks": ""
             }
            },
            "type": "histogram"
           }
          ],
          "histogram2d": [
           {
            "colorbar": {
             "outlinewidth": 0,
             "ticks": ""
            },
            "colorscale": [
             [
              0,
              "#0d0887"
             ],
             [
              0.1111111111111111,
              "#46039f"
             ],
             [
              0.2222222222222222,
              "#7201a8"
             ],
             [
              0.3333333333333333,
              "#9c179e"
             ],
             [
              0.4444444444444444,
              "#bd3786"
             ],
             [
              0.5555555555555556,
              "#d8576b"
             ],
             [
              0.6666666666666666,
              "#ed7953"
             ],
             [
              0.7777777777777778,
              "#fb9f3a"
             ],
             [
              0.8888888888888888,
              "#fdca26"
             ],
             [
              1,
              "#f0f921"
             ]
            ],
            "type": "histogram2d"
           }
          ],
          "histogram2dcontour": [
           {
            "colorbar": {
             "outlinewidth": 0,
             "ticks": ""
            },
            "colorscale": [
             [
              0,
              "#0d0887"
             ],
             [
              0.1111111111111111,
              "#46039f"
             ],
             [
              0.2222222222222222,
              "#7201a8"
             ],
             [
              0.3333333333333333,
              "#9c179e"
             ],
             [
              0.4444444444444444,
              "#bd3786"
             ],
             [
              0.5555555555555556,
              "#d8576b"
             ],
             [
              0.6666666666666666,
              "#ed7953"
             ],
             [
              0.7777777777777778,
              "#fb9f3a"
             ],
             [
              0.8888888888888888,
              "#fdca26"
             ],
             [
              1,
              "#f0f921"
             ]
            ],
            "type": "histogram2dcontour"
           }
          ],
          "mesh3d": [
           {
            "colorbar": {
             "outlinewidth": 0,
             "ticks": ""
            },
            "type": "mesh3d"
           }
          ],
          "parcoords": [
           {
            "line": {
             "colorbar": {
              "outlinewidth": 0,
              "ticks": ""
             }
            },
            "type": "parcoords"
           }
          ],
          "scatter": [
           {
            "marker": {
             "colorbar": {
              "outlinewidth": 0,
              "ticks": ""
             }
            },
            "type": "scatter"
           }
          ],
          "scatter3d": [
           {
            "line": {
             "colorbar": {
              "outlinewidth": 0,
              "ticks": ""
             }
            },
            "marker": {
             "colorbar": {
              "outlinewidth": 0,
              "ticks": ""
             }
            },
            "type": "scatter3d"
           }
          ],
          "scattercarpet": [
           {
            "marker": {
             "colorbar": {
              "outlinewidth": 0,
              "ticks": ""
             }
            },
            "type": "scattercarpet"
           }
          ],
          "scattergeo": [
           {
            "marker": {
             "colorbar": {
              "outlinewidth": 0,
              "ticks": ""
             }
            },
            "type": "scattergeo"
           }
          ],
          "scattergl": [
           {
            "marker": {
             "colorbar": {
              "outlinewidth": 0,
              "ticks": ""
             }
            },
            "type": "scattergl"
           }
          ],
          "scattermapbox": [
           {
            "marker": {
             "colorbar": {
              "outlinewidth": 0,
              "ticks": ""
             }
            },
            "type": "scattermapbox"
           }
          ],
          "scatterpolar": [
           {
            "marker": {
             "colorbar": {
              "outlinewidth": 0,
              "ticks": ""
             }
            },
            "type": "scatterpolar"
           }
          ],
          "scatterpolargl": [
           {
            "marker": {
             "colorbar": {
              "outlinewidth": 0,
              "ticks": ""
             }
            },
            "type": "scatterpolargl"
           }
          ],
          "scatterternary": [
           {
            "marker": {
             "colorbar": {
              "outlinewidth": 0,
              "ticks": ""
             }
            },
            "type": "scatterternary"
           }
          ],
          "surface": [
           {
            "colorbar": {
             "outlinewidth": 0,
             "ticks": ""
            },
            "colorscale": [
             [
              0,
              "#0d0887"
             ],
             [
              0.1111111111111111,
              "#46039f"
             ],
             [
              0.2222222222222222,
              "#7201a8"
             ],
             [
              0.3333333333333333,
              "#9c179e"
             ],
             [
              0.4444444444444444,
              "#bd3786"
             ],
             [
              0.5555555555555556,
              "#d8576b"
             ],
             [
              0.6666666666666666,
              "#ed7953"
             ],
             [
              0.7777777777777778,
              "#fb9f3a"
             ],
             [
              0.8888888888888888,
              "#fdca26"
             ],
             [
              1,
              "#f0f921"
             ]
            ],
            "type": "surface"
           }
          ],
          "table": [
           {
            "cells": {
             "fill": {
              "color": "#EBF0F8"
             },
             "line": {
              "color": "white"
             }
            },
            "header": {
             "fill": {
              "color": "#C8D4E3"
             },
             "line": {
              "color": "white"
             }
            },
            "type": "table"
           }
          ]
         },
         "layout": {
          "annotationdefaults": {
           "arrowcolor": "#2a3f5f",
           "arrowhead": 0,
           "arrowwidth": 1
          },
          "colorscale": {
           "diverging": [
            [
             0,
             "#8e0152"
            ],
            [
             0.1,
             "#c51b7d"
            ],
            [
             0.2,
             "#de77ae"
            ],
            [
             0.3,
             "#f1b6da"
            ],
            [
             0.4,
             "#fde0ef"
            ],
            [
             0.5,
             "#f7f7f7"
            ],
            [
             0.6,
             "#e6f5d0"
            ],
            [
             0.7,
             "#b8e186"
            ],
            [
             0.8,
             "#7fbc41"
            ],
            [
             0.9,
             "#4d9221"
            ],
            [
             1,
             "#276419"
            ]
           ],
           "sequential": [
            [
             0,
             "#0d0887"
            ],
            [
             0.1111111111111111,
             "#46039f"
            ],
            [
             0.2222222222222222,
             "#7201a8"
            ],
            [
             0.3333333333333333,
             "#9c179e"
            ],
            [
             0.4444444444444444,
             "#bd3786"
            ],
            [
             0.5555555555555556,
             "#d8576b"
            ],
            [
             0.6666666666666666,
             "#ed7953"
            ],
            [
             0.7777777777777778,
             "#fb9f3a"
            ],
            [
             0.8888888888888888,
             "#fdca26"
            ],
            [
             1,
             "#f0f921"
            ]
           ],
           "sequentialminus": [
            [
             0,
             "#0d0887"
            ],
            [
             0.1111111111111111,
             "#46039f"
            ],
            [
             0.2222222222222222,
             "#7201a8"
            ],
            [
             0.3333333333333333,
             "#9c179e"
            ],
            [
             0.4444444444444444,
             "#bd3786"
            ],
            [
             0.5555555555555556,
             "#d8576b"
            ],
            [
             0.6666666666666666,
             "#ed7953"
            ],
            [
             0.7777777777777778,
             "#fb9f3a"
            ],
            [
             0.8888888888888888,
             "#fdca26"
            ],
            [
             1,
             "#f0f921"
            ]
           ]
          },
          "colorway": [
           "#636efa",
           "#EF553B",
           "#00cc96",
           "#ab63fa",
           "#FFA15A",
           "#19d3f3",
           "#FF6692",
           "#B6E880",
           "#FF97FF",
           "#FECB52"
          ],
          "font": {
           "color": "#2a3f5f"
          },
          "geo": {
           "bgcolor": "white",
           "lakecolor": "white",
           "landcolor": "#E5ECF6",
           "showlakes": true,
           "showland": true,
           "subunitcolor": "white"
          },
          "hoverlabel": {
           "align": "left"
          },
          "hovermode": "closest",
          "mapbox": {
           "style": "light"
          },
          "paper_bgcolor": "white",
          "plot_bgcolor": "#E5ECF6",
          "polar": {
           "angularaxis": {
            "gridcolor": "white",
            "linecolor": "white",
            "ticks": ""
           },
           "bgcolor": "#E5ECF6",
           "radialaxis": {
            "gridcolor": "white",
            "linecolor": "white",
            "ticks": ""
           }
          },
          "scene": {
           "xaxis": {
            "backgroundcolor": "#E5ECF6",
            "gridcolor": "white",
            "gridwidth": 2,
            "linecolor": "white",
            "showbackground": true,
            "ticks": "",
            "zerolinecolor": "white"
           },
           "yaxis": {
            "backgroundcolor": "#E5ECF6",
            "gridcolor": "white",
            "gridwidth": 2,
            "linecolor": "white",
            "showbackground": true,
            "ticks": "",
            "zerolinecolor": "white"
           },
           "zaxis": {
            "backgroundcolor": "#E5ECF6",
            "gridcolor": "white",
            "gridwidth": 2,
            "linecolor": "white",
            "showbackground": true,
            "ticks": "",
            "zerolinecolor": "white"
           }
          },
          "shapedefaults": {
           "line": {
            "color": "#2a3f5f"
           }
          },
          "ternary": {
           "aaxis": {
            "gridcolor": "white",
            "linecolor": "white",
            "ticks": ""
           },
           "baxis": {
            "gridcolor": "white",
            "linecolor": "white",
            "ticks": ""
           },
           "bgcolor": "#E5ECF6",
           "caxis": {
            "gridcolor": "white",
            "linecolor": "white",
            "ticks": ""
           }
          },
          "title": {
           "x": 0.05
          },
          "xaxis": {
           "automargin": true,
           "gridcolor": "white",
           "linecolor": "white",
           "ticks": "",
           "zerolinecolor": "white",
           "zerolinewidth": 2
          },
          "yaxis": {
           "automargin": true,
           "gridcolor": "white",
           "linecolor": "white",
           "ticks": "",
           "zerolinecolor": "white",
           "zerolinewidth": 2
          }
         }
        },
        "title": {
         "text": "Average land temperature in world"
        },
        "xaxis": {
         "title": {
          "text": "year"
         }
        },
        "yaxis": {
         "title": {
          "text": "Average Temperature, °C"
         }
        }
       }
      },
      "text/html": [
       "<div>\n",
       "        \n",
       "        \n",
       "            <div id=\"34e654f8-dc45-4406-aae3-72cfa846e373\" class=\"plotly-graph-div\" style=\"height:525px; width:100%;\"></div>\n",
       "            <script type=\"text/javascript\">\n",
       "                require([\"plotly\"], function(Plotly) {\n",
       "                    window.PLOTLYENV=window.PLOTLYENV || {};\n",
       "                    \n",
       "                if (document.getElementById(\"34e654f8-dc45-4406-aae3-72cfa846e373\")) {\n",
       "                    Plotly.newPlot(\n",
       "                        '34e654f8-dc45-4406-aae3-72cfa846e373',\n",
       "                        [{\"line\": {\"color\": \"rgb(0, 255, 255)\"}, \"mode\": \"lines\", \"name\": \"Uncertainty top\", \"type\": \"scatter\", \"x\": [\"1/1/\", \"10/1\", \"11/1\", \"12/1\", \"2/1/\", \"3/1/\", \"4/1/\", \"5/1/\", \"6/1/\", \"7/1/\", \"8/1/\", \"9/1/\"], \"y\": [13.734077498440291, 19.687888042168684, 16.944183170642436, 14.498266499182492, 14.67240684495534, 16.781859915183208, 19.03862900919097, 21.283729934496705, 22.70267528146307, 23.519688250480115, 23.466510316858972, 22.100958474993046]}, {\"fill\": \"tonexty\", \"line\": {\"color\": \"rgb(0, 255, 255)\"}, \"mode\": \"lines\", \"name\": \"Uncertainty bot\", \"type\": \"scatter\", \"x\": [\"1/1/\", \"10/1\", \"11/1\", \"12/1\", \"2/1/\", \"3/1/\", \"4/1/\", \"5/1/\", \"6/1/\", \"7/1/\", \"8/1/\", \"9/1/\"], \"y\": [12.795685796515903, 18.90423695783134, 16.129474323826603, 13.610821305021101, 13.765783670395493, 15.940565797536149, 18.221129077431726, 20.47034942405587, 21.856504543098115, 22.67955763767815, 22.645302046079664, 21.317279817588823]}, {\"line\": {\"color\": \"rgb(199, 121, 093)\"}, \"name\": \"Average Temperature\", \"type\": \"scatter\", \"x\": [\"1/1/\", \"10/1\", \"11/1\", \"12/1\", \"2/1/\", \"3/1/\", \"4/1/\", \"5/1/\", \"6/1/\", \"7/1/\", \"8/1/\", \"9/1/\"], \"y\": [13.264881647478097, 19.296062500000012, 16.53682874723452, 14.054543902101797, 14.219095257675416, 16.36121285635968, 18.629879043311348, 20.877039679276287, 22.279589912280592, 23.099622944079133, 23.055906181469318, 21.709119146290934]}],\n",
       "                        {\"showlegend\": false, \"template\": {\"data\": {\"bar\": [{\"error_x\": {\"color\": \"#2a3f5f\"}, \"error_y\": {\"color\": \"#2a3f5f\"}, \"marker\": {\"line\": {\"color\": \"#E5ECF6\", \"width\": 0.5}}, \"type\": \"bar\"}], \"barpolar\": [{\"marker\": {\"line\": {\"color\": \"#E5ECF6\", \"width\": 0.5}}, \"type\": \"barpolar\"}], \"carpet\": [{\"aaxis\": {\"endlinecolor\": \"#2a3f5f\", \"gridcolor\": \"white\", \"linecolor\": \"white\", \"minorgridcolor\": \"white\", \"startlinecolor\": \"#2a3f5f\"}, \"baxis\": {\"endlinecolor\": \"#2a3f5f\", \"gridcolor\": \"white\", \"linecolor\": \"white\", \"minorgridcolor\": \"white\", \"startlinecolor\": \"#2a3f5f\"}, \"type\": \"carpet\"}], \"choropleth\": [{\"colorbar\": {\"outlinewidth\": 0, \"ticks\": \"\"}, \"type\": \"choropleth\"}], \"contour\": [{\"colorbar\": {\"outlinewidth\": 0, \"ticks\": \"\"}, \"colorscale\": [[0.0, \"#0d0887\"], [0.1111111111111111, \"#46039f\"], [0.2222222222222222, \"#7201a8\"], [0.3333333333333333, \"#9c179e\"], [0.4444444444444444, \"#bd3786\"], [0.5555555555555556, \"#d8576b\"], [0.6666666666666666, \"#ed7953\"], [0.7777777777777778, \"#fb9f3a\"], [0.8888888888888888, \"#fdca26\"], [1.0, \"#f0f921\"]], \"type\": \"contour\"}], \"contourcarpet\": [{\"colorbar\": {\"outlinewidth\": 0, \"ticks\": \"\"}, \"type\": \"contourcarpet\"}], \"heatmap\": [{\"colorbar\": {\"outlinewidth\": 0, \"ticks\": \"\"}, \"colorscale\": [[0.0, \"#0d0887\"], [0.1111111111111111, \"#46039f\"], [0.2222222222222222, \"#7201a8\"], [0.3333333333333333, \"#9c179e\"], [0.4444444444444444, \"#bd3786\"], [0.5555555555555556, \"#d8576b\"], [0.6666666666666666, \"#ed7953\"], [0.7777777777777778, \"#fb9f3a\"], [0.8888888888888888, \"#fdca26\"], [1.0, \"#f0f921\"]], \"type\": \"heatmap\"}], \"heatmapgl\": [{\"colorbar\": {\"outlinewidth\": 0, \"ticks\": \"\"}, \"colorscale\": [[0.0, \"#0d0887\"], [0.1111111111111111, \"#46039f\"], [0.2222222222222222, \"#7201a8\"], [0.3333333333333333, \"#9c179e\"], [0.4444444444444444, \"#bd3786\"], [0.5555555555555556, \"#d8576b\"], [0.6666666666666666, \"#ed7953\"], [0.7777777777777778, \"#fb9f3a\"], [0.8888888888888888, \"#fdca26\"], [1.0, \"#f0f921\"]], \"type\": \"heatmapgl\"}], \"histogram\": [{\"marker\": {\"colorbar\": {\"outlinewidth\": 0, \"ticks\": \"\"}}, \"type\": \"histogram\"}], \"histogram2d\": [{\"colorbar\": {\"outlinewidth\": 0, \"ticks\": \"\"}, \"colorscale\": [[0.0, \"#0d0887\"], [0.1111111111111111, \"#46039f\"], [0.2222222222222222, \"#7201a8\"], [0.3333333333333333, \"#9c179e\"], [0.4444444444444444, \"#bd3786\"], [0.5555555555555556, \"#d8576b\"], [0.6666666666666666, \"#ed7953\"], [0.7777777777777778, \"#fb9f3a\"], [0.8888888888888888, \"#fdca26\"], [1.0, \"#f0f921\"]], \"type\": \"histogram2d\"}], \"histogram2dcontour\": [{\"colorbar\": {\"outlinewidth\": 0, \"ticks\": \"\"}, \"colorscale\": [[0.0, \"#0d0887\"], [0.1111111111111111, \"#46039f\"], [0.2222222222222222, \"#7201a8\"], [0.3333333333333333, \"#9c179e\"], [0.4444444444444444, \"#bd3786\"], [0.5555555555555556, \"#d8576b\"], [0.6666666666666666, \"#ed7953\"], [0.7777777777777778, \"#fb9f3a\"], [0.8888888888888888, \"#fdca26\"], [1.0, \"#f0f921\"]], \"type\": \"histogram2dcontour\"}], \"mesh3d\": [{\"colorbar\": {\"outlinewidth\": 0, \"ticks\": \"\"}, \"type\": \"mesh3d\"}], \"parcoords\": [{\"line\": {\"colorbar\": {\"outlinewidth\": 0, \"ticks\": \"\"}}, \"type\": \"parcoords\"}], \"scatter\": [{\"marker\": {\"colorbar\": {\"outlinewidth\": 0, \"ticks\": \"\"}}, \"type\": \"scatter\"}], \"scatter3d\": [{\"line\": {\"colorbar\": {\"outlinewidth\": 0, \"ticks\": \"\"}}, \"marker\": {\"colorbar\": {\"outlinewidth\": 0, \"ticks\": \"\"}}, \"type\": \"scatter3d\"}], \"scattercarpet\": [{\"marker\": {\"colorbar\": {\"outlinewidth\": 0, \"ticks\": \"\"}}, \"type\": \"scattercarpet\"}], \"scattergeo\": [{\"marker\": {\"colorbar\": {\"outlinewidth\": 0, \"ticks\": \"\"}}, \"type\": \"scattergeo\"}], \"scattergl\": [{\"marker\": {\"colorbar\": {\"outlinewidth\": 0, \"ticks\": \"\"}}, \"type\": \"scattergl\"}], \"scattermapbox\": [{\"marker\": {\"colorbar\": {\"outlinewidth\": 0, \"ticks\": \"\"}}, \"type\": \"scattermapbox\"}], \"scatterpolar\": [{\"marker\": {\"colorbar\": {\"outlinewidth\": 0, \"ticks\": \"\"}}, \"type\": \"scatterpolar\"}], \"scatterpolargl\": [{\"marker\": {\"colorbar\": {\"outlinewidth\": 0, \"ticks\": \"\"}}, \"type\": \"scatterpolargl\"}], \"scatterternary\": [{\"marker\": {\"colorbar\": {\"outlinewidth\": 0, \"ticks\": \"\"}}, \"type\": \"scatterternary\"}], \"surface\": [{\"colorbar\": {\"outlinewidth\": 0, \"ticks\": \"\"}, \"colorscale\": [[0.0, \"#0d0887\"], [0.1111111111111111, \"#46039f\"], [0.2222222222222222, \"#7201a8\"], [0.3333333333333333, \"#9c179e\"], [0.4444444444444444, \"#bd3786\"], [0.5555555555555556, \"#d8576b\"], [0.6666666666666666, \"#ed7953\"], [0.7777777777777778, \"#fb9f3a\"], [0.8888888888888888, \"#fdca26\"], [1.0, \"#f0f921\"]], \"type\": \"surface\"}], \"table\": [{\"cells\": {\"fill\": {\"color\": \"#EBF0F8\"}, \"line\": {\"color\": \"white\"}}, \"header\": {\"fill\": {\"color\": \"#C8D4E3\"}, \"line\": {\"color\": \"white\"}}, \"type\": \"table\"}]}, \"layout\": {\"annotationdefaults\": {\"arrowcolor\": \"#2a3f5f\", \"arrowhead\": 0, \"arrowwidth\": 1}, \"colorscale\": {\"diverging\": [[0, \"#8e0152\"], [0.1, \"#c51b7d\"], [0.2, \"#de77ae\"], [0.3, \"#f1b6da\"], [0.4, \"#fde0ef\"], [0.5, \"#f7f7f7\"], [0.6, \"#e6f5d0\"], [0.7, \"#b8e186\"], [0.8, \"#7fbc41\"], [0.9, \"#4d9221\"], [1, \"#276419\"]], \"sequential\": [[0.0, \"#0d0887\"], [0.1111111111111111, \"#46039f\"], [0.2222222222222222, \"#7201a8\"], [0.3333333333333333, \"#9c179e\"], [0.4444444444444444, \"#bd3786\"], [0.5555555555555556, \"#d8576b\"], [0.6666666666666666, \"#ed7953\"], [0.7777777777777778, \"#fb9f3a\"], [0.8888888888888888, \"#fdca26\"], [1.0, \"#f0f921\"]], \"sequentialminus\": [[0.0, \"#0d0887\"], [0.1111111111111111, \"#46039f\"], [0.2222222222222222, \"#7201a8\"], [0.3333333333333333, \"#9c179e\"], [0.4444444444444444, \"#bd3786\"], [0.5555555555555556, \"#d8576b\"], [0.6666666666666666, \"#ed7953\"], [0.7777777777777778, \"#fb9f3a\"], [0.8888888888888888, \"#fdca26\"], [1.0, \"#f0f921\"]]}, \"colorway\": [\"#636efa\", \"#EF553B\", \"#00cc96\", \"#ab63fa\", \"#FFA15A\", \"#19d3f3\", \"#FF6692\", \"#B6E880\", \"#FF97FF\", \"#FECB52\"], \"font\": {\"color\": \"#2a3f5f\"}, \"geo\": {\"bgcolor\": \"white\", \"lakecolor\": \"white\", \"landcolor\": \"#E5ECF6\", \"showlakes\": true, \"showland\": true, \"subunitcolor\": \"white\"}, \"hoverlabel\": {\"align\": \"left\"}, \"hovermode\": \"closest\", \"mapbox\": {\"style\": \"light\"}, \"paper_bgcolor\": \"white\", \"plot_bgcolor\": \"#E5ECF6\", \"polar\": {\"angularaxis\": {\"gridcolor\": \"white\", \"linecolor\": \"white\", \"ticks\": \"\"}, \"bgcolor\": \"#E5ECF6\", \"radialaxis\": {\"gridcolor\": \"white\", \"linecolor\": \"white\", \"ticks\": \"\"}}, \"scene\": {\"xaxis\": {\"backgroundcolor\": \"#E5ECF6\", \"gridcolor\": \"white\", \"gridwidth\": 2, \"linecolor\": \"white\", \"showbackground\": true, \"ticks\": \"\", \"zerolinecolor\": \"white\"}, \"yaxis\": {\"backgroundcolor\": \"#E5ECF6\", \"gridcolor\": \"white\", \"gridwidth\": 2, \"linecolor\": \"white\", \"showbackground\": true, \"ticks\": \"\", \"zerolinecolor\": \"white\"}, \"zaxis\": {\"backgroundcolor\": \"#E5ECF6\", \"gridcolor\": \"white\", \"gridwidth\": 2, \"linecolor\": \"white\", \"showbackground\": true, \"ticks\": \"\", \"zerolinecolor\": \"white\"}}, \"shapedefaults\": {\"line\": {\"color\": \"#2a3f5f\"}}, \"ternary\": {\"aaxis\": {\"gridcolor\": \"white\", \"linecolor\": \"white\", \"ticks\": \"\"}, \"baxis\": {\"gridcolor\": \"white\", \"linecolor\": \"white\", \"ticks\": \"\"}, \"bgcolor\": \"#E5ECF6\", \"caxis\": {\"gridcolor\": \"white\", \"linecolor\": \"white\", \"ticks\": \"\"}}, \"title\": {\"x\": 0.05}, \"xaxis\": {\"automargin\": true, \"gridcolor\": \"white\", \"linecolor\": \"white\", \"ticks\": \"\", \"zerolinecolor\": \"white\", \"zerolinewidth\": 2}, \"yaxis\": {\"automargin\": true, \"gridcolor\": \"white\", \"linecolor\": \"white\", \"ticks\": \"\", \"zerolinecolor\": \"white\", \"zerolinewidth\": 2}}}, \"title\": {\"text\": \"Average land temperature in world\"}, \"xaxis\": {\"title\": {\"text\": \"year\"}}, \"yaxis\": {\"title\": {\"text\": \"Average Temperature, \\u00b0C\"}}},\n",
       "                        {\"responsive\": true}\n",
       "                    ).then(function(){\n",
       "                            \n",
       "var gd = document.getElementById('34e654f8-dc45-4406-aae3-72cfa846e373');\n",
       "var x = new MutationObserver(function (mutations, observer) {{\n",
       "        var display = window.getComputedStyle(gd).display;\n",
       "        if (!display || display === 'none') {{\n",
       "            console.log([gd, 'removed!']);\n",
       "            Plotly.purge(gd);\n",
       "            observer.disconnect();\n",
       "        }}\n",
       "}});\n",
       "\n",
       "// Listen for the removal of the full notebook cells\n",
       "var notebookContainer = gd.closest('#notebook-container');\n",
       "if (notebookContainer) {{\n",
       "    x.observe(notebookContainer, {childList: true});\n",
       "}}\n",
       "\n",
       "// Listen for the clearing of the current output cell\n",
       "var outputEl = gd.closest('.output');\n",
       "if (outputEl) {{\n",
       "    x.observe(outputEl, {childList: true});\n",
       "}}\n",
       "\n",
       "                        })\n",
       "                };\n",
       "                });\n",
       "            </script>\n",
       "        </div>"
      ]
     },
     "metadata": {},
     "output_type": "display_data"
    }
   ],
   "source": [
    " # Is there a global warming?\n",
    "#global_temp = pd.read_csv(\"../input/GlobalTemperatures.csv\")\n",
    "\n",
    "#Extract the year from a date\n",
    "years = np.unique(global_temp_country['dt'].apply(lambda x: x[:4]))\n",
    "mean_temp_world = []\n",
    "mean_temp_world_uncertainty = []\n",
    "\n",
    "for year in years:\n",
    "    mean_temp_world.append(global_temp_country[global_temp_country['dt'].apply(\n",
    "        lambda x: x[:4]) == year]['AverageTemperature'].mean())\n",
    "    mean_temp_world_uncertainty.append(global_temp_country[global_temp_country['dt'].apply(\n",
    "                lambda x: x[:4]) == year]['AverageTemperatureUncertainty'].mean())\n",
    "\n",
    "trace0 = go.Scatter(\n",
    "    x = years, \n",
    "    y = np.array(mean_temp_world) + np.array(mean_temp_world_uncertainty),\n",
    "    fill= None,\n",
    "    mode='lines',\n",
    "    name='Uncertainty top',\n",
    "    line=dict(\n",
    "        color='rgb(0, 255, 255)',\n",
    "    )\n",
    ")\n",
    "trace1 = go.Scatter(\n",
    "    x = years, \n",
    "    y = np.array(mean_temp_world) - np.array(mean_temp_world_uncertainty),\n",
    "    fill='tonexty',\n",
    "    mode='lines',\n",
    "    name='Uncertainty bot',\n",
    "    line=dict(\n",
    "        color='rgb(0, 255, 255)',\n",
    "    )\n",
    ")\n",
    "\n",
    "trace2 = go.Scatter(\n",
    "    x = years, \n",
    "    y = mean_temp_world,\n",
    "    name='Average Temperature',\n",
    "    line=dict(\n",
    "        color='rgb(199, 121, 093)',\n",
    "    )\n",
    ")\n",
    "data = [trace0, trace1, trace2]\n",
    "\n",
    "layout = go.Layout(\n",
    "    xaxis=dict(title='year'),\n",
    "    yaxis=dict(title='Average Temperature, °C'),\n",
    "    title='Average land temperature in world',\n",
    "    showlegend = False)\n",
    "\n",
    "fig = go.Figure(data=data, layout=layout)\n",
    "py.iplot(fig)\n"
   ]
  },
  {
   "cell_type": "code",
   "execution_count": 19,
   "metadata": {},
   "outputs": [],
   "source": [
    "#Extract the year from a date\n",
    "years = np.unique(global_temp_country_clear['dt'].apply(lambda x: x[:4]))\n",
    "\n",
    "#Let's create an array and add the values of average temperatures in the countries every 10 years\n",
    "mean_temp_year_country = [ [0] * len(countries) for i in range(len(years[::10]))]\n",
    "\n",
    "j = 0\n",
    "for country in countries:\n",
    "    all_temp_country = global_temp_country_clear[global_temp_country_clear['Country'] == country]\n",
    "    i = 0\n",
    "    for year in years[::10]:\n",
    "        mean_temp_year_country[i][j] = all_temp_country[all_temp_country['dt'].apply(\n",
    "                lambda x: x[:4]) == year]['AverageTemperature'].mean()\n",
    "        i +=1\n",
    "    j += 1"
   ]
  },
  {
   "cell_type": "code",
   "execution_count": 21,
   "metadata": {},
   "outputs": [
    {
     "data": {
      "application/vnd.plotly.v1+json": {
       "config": {
        "linkText": "Export to plot.ly",
        "plotlyServerURL": "https://plot.ly",
        "showLink": false
       },
       "data": [
        {
         "colorbar": {
          "autotick": true,
          "tickprefix": "",
          "title": "# Average\nTemperature,\n°C"
         },
         "locationmode": "country names",
         "locations": [
          "Afghanistan",
          "Albania",
          "Algeria",
          "Angola",
          "Anguilla",
          "Antigua And Barbuda",
          "Argentina",
          "Armenia",
          "Aruba",
          "Australia",
          "Austria",
          "Bahamas",
          "Bahrain",
          "Bangladesh",
          "Barbados",
          "Belarus",
          "Belgium",
          "Bhutan",
          "Bolivia",
          "Botswana",
          "Brazil",
          "Bulgaria",
          "Burundi",
          "Cambodia",
          "Cameroon",
          "Canada",
          "Cayman Islands",
          "Chile",
          "China",
          "Colombia",
          "Congo",
          "Costa Rica",
          "Cuba",
          "Cyprus",
          "Czech Republic",
          "Dominican Republic",
          "Ecuador",
          "Egypt",
          "El Salvador",
          "Ethiopia",
          "Fiji",
          "Finland",
          "Gambia",
          "Germany",
          "Ghana",
          "Greece",
          "Guadeloupe",
          "Guatemala",
          "Guinea",
          "Haiti",
          "Honduras",
          "Hungary",
          "Iceland",
          "India",
          "Indonesia",
          "Iran",
          "Iraq",
          "Ireland",
          "Israel",
          "Italy",
          "Jamaica",
          "Japan",
          "Jordan",
          "Kazakhstan",
          "Kenya",
          "Kuwait",
          "Lebanon",
          "Libya",
          "Lithuania",
          "Madagascar",
          "Malawi",
          "Malaysia",
          "Malta",
          "Mauritius",
          "Mexico",
          "Moldova",
          "Mongolia",
          "Morocco",
          "Mozambique",
          "Myanmar",
          "Namibia",
          "Nepal",
          "New Zealand",
          "Nicaragua",
          "Nigeria",
          "Norway",
          "Oman",
          "Pakistan",
          "Panama",
          "Paraguay",
          "Peru",
          "Philippines",
          "Poland",
          "Portugal",
          "Qatar",
          "Romania",
          "Russia",
          "Rwanda",
          "Saudi Arabia",
          "Seychelles",
          "Singapore",
          "Somalia",
          "South Africa",
          "South Korea",
          "Spain",
          "Sri Lanka",
          "Sudan",
          "Sweden",
          "Switzerland",
          "Syria",
          "Tanzania",
          "Thailand",
          "Tunisia",
          "Turkey",
          "Uganda",
          "Ukraine",
          "United Arab Emirates",
          "United States",
          "Uzbekistan",
          "Venezuela",
          "Vietnam",
          "Yemen",
          "Zambia",
          "Zimbabwe"
         ],
         "marker": {
          "line": {
           "color": "rgb(0,0,0)",
           "width": 1
          }
         },
         "text": [
          "Afghanistan",
          "Albania",
          "Algeria",
          "Angola",
          "Anguilla",
          "Antigua And Barbuda",
          "Argentina",
          "Armenia",
          "Aruba",
          "Australia",
          "Austria",
          "Bahamas",
          "Bahrain",
          "Bangladesh",
          "Barbados",
          "Belarus",
          "Belgium",
          "Bhutan",
          "Bolivia",
          "Botswana",
          "Brazil",
          "Bulgaria",
          "Burundi",
          "Cambodia",
          "Cameroon",
          "Canada",
          "Cayman Islands",
          "Chile",
          "China",
          "Colombia",
          "Congo",
          "Costa Rica",
          "Cuba",
          "Cyprus",
          "Czech Republic",
          "Dominican Republic",
          "Ecuador",
          "Egypt",
          "El Salvador",
          "Ethiopia",
          "Fiji",
          "Finland",
          "Gambia",
          "Germany",
          "Ghana",
          "Greece",
          "Guadeloupe",
          "Guatemala",
          "Guinea",
          "Haiti",
          "Honduras",
          "Hungary",
          "Iceland",
          "India",
          "Indonesia",
          "Iran",
          "Iraq",
          "Ireland",
          "Israel",
          "Italy",
          "Jamaica",
          "Japan",
          "Jordan",
          "Kazakhstan",
          "Kenya",
          "Kuwait",
          "Lebanon",
          "Libya",
          "Lithuania",
          "Madagascar",
          "Malawi",
          "Malaysia",
          "Malta",
          "Mauritius",
          "Mexico",
          "Moldova",
          "Mongolia",
          "Morocco",
          "Mozambique",
          "Myanmar",
          "Namibia",
          "Nepal",
          "New Zealand",
          "Nicaragua",
          "Nigeria",
          "Norway",
          "Oman",
          "Pakistan",
          "Panama",
          "Paraguay",
          "Peru",
          "Philippines",
          "Poland",
          "Portugal",
          "Qatar",
          "Romania",
          "Russia",
          "Rwanda",
          "Saudi Arabia",
          "Seychelles",
          "Singapore",
          "Somalia",
          "South Africa",
          "South Korea",
          "Spain",
          "Sri Lanka",
          "Sudan",
          "Sweden",
          "Switzerland",
          "Syria",
          "Tanzania",
          "Thailand",
          "Tunisia",
          "Turkey",
          "Uganda",
          "Ukraine",
          "United Arab Emirates",
          "United States",
          "Uzbekistan",
          "Venezuela",
          "Vietnam",
          "Yemen",
          "Zambia",
          "Zimbabwe"
         ],
         "type": "choropleth",
         "z": [
          14.225853372434033,
          12.885980938416438,
          23.26621187683281,
          21.962348973607035,
          26.811416422287394,
          26.638483137829887,
          14.814848973607019,
          8.898997067448686,
          28.12114662756596,
          21.74013416422289,
          6.496020527859243,
          25.321806593406617,
          26.12002785923754,
          25.096755865102647,
          26.662034457478,
          6.155659090909096,
          9.785887829912031,
          12.047171554252195,
          21.063409824046897,
          22.045806451612883,
          24.953523460410537,
          10.768482404692074,
          20.199079178885633,
          26.882248533724347,
          24.514651026392976,
          -4.743583882783885,
          26.934938461538422,
          9.572978005865124,
          6.863369501466282,
          24.92542888563055,
          23.914413489736035,
          25.797812454212462,
          25.61077509157508,
          19.079391495601143,
          7.9259164222874015,
          25.774780952380954,
          21.96163049853373,
          22.91999266862169,
          25.13688424908425,
          23.09928885630499,
          25.140714809384175,
          1.6686107038123152,
          27.69932771260999,
          8.465712609970666,
          26.900848240469205,
          15.048934017595318,
          26.53018548387096,
          23.35293772893776,
          25.647245601173026,
          26.51852820512823,
          24.93348571428571,
          9.998906891495594,
          1.7762052785923792,
          24.149046187683293,
          25.860538123167128,
          17.828978739002924,
          22.072263196480925,
          9.688768328445736,
          19.93921407624635,
          13.01850879765394,
          26.320336996336977,
          12.157538123167164,
          19.66679032258066,
          5.550233137829911,
          24.19888929618769,
          25.31278152492666,
          17.9565967741936,
          22.565621700879777,
          6.253530058651026,
          22.882866568914945,
          21.529648093841672,
          26.032600439882657,
          18.77934457478006,
          23.63898167155427,
          20.77236043956041,
          9.23530865102639,
          -0.5143834310850431,
          17.864281524926696,
          23.704231671554258,
          23.95373973607038,
          20.657989736070366,
          15.053331378299127,
          10.522700146627558,
          26.185670329670316,
          26.908312316715545,
          0.4680835777126105,
          27.026417155425175,
          20.793541788856285,
          26.479690615835818,
          23.479072580645145,
          20.03606451612905,
          26.61715249266864,
          7.775436950146627,
          14.924175219941352,
          26.988087976539596,
          9.05019941348975,
          -5.167612170087973,
          19.37162683284459,
          25.73372434017597,
          26.849497800586498,
          26.752522727272737,
          26.96459824046924,
          17.425219941348978,
          12.060513929618754,
          13.853804985337241,
          27.2133892961877,
          27.218351173020544,
          2.76211217008798,
          7.282969941348968,
          18.256244134897376,
          22.416285923753687,
          26.261277126099706,
          20.25118695014664,
          11.936284457478,
          23.15213782991202,
          7.984655425219943,
          27.87654618768325,
          8.95423443223443,
          12.584542521994155,
          25.234956744868068,
          23.91130498533721,
          26.329659090909068,
          21.39984677419359,
          21.247887829912038
         ]
        }
       ],
       "layout": {
        "geo": {
         "oceancolor": "rgb(0,255,255)",
         "showframe": false,
         "showocean": true,
         "type": "equirectangular"
        },
        "title": "Average land temperature in countries"
       }
      },
      "text/html": [
       "<div>\n",
       "        \n",
       "        \n",
       "            <div id=\"5b571b16-42f1-4828-ad2d-5caa111535f4\" class=\"plotly-graph-div\" style=\"height:525px; width:100%;\"></div>\n",
       "            <script type=\"text/javascript\">\n",
       "                require([\"plotly\"], function(Plotly) {\n",
       "                    window.PLOTLYENV=window.PLOTLYENV || {};\n",
       "                    \n",
       "                if (document.getElementById(\"5b571b16-42f1-4828-ad2d-5caa111535f4\")) {\n",
       "                    Plotly.newPlot(\n",
       "                        '5b571b16-42f1-4828-ad2d-5caa111535f4',\n",
       "                        [{\"colorbar\": {\"autotick\": true, \"tickprefix\": \"\", \"title\": \"# Average\\nTemperature,\\n\\u00b0C\"}, \"locationmode\": \"country names\", \"locations\": [\"Afghanistan\", \"Albania\", \"Algeria\", \"Angola\", \"Anguilla\", \"Antigua And Barbuda\", \"Argentina\", \"Armenia\", \"Aruba\", \"Australia\", \"Austria\", \"Bahamas\", \"Bahrain\", \"Bangladesh\", \"Barbados\", \"Belarus\", \"Belgium\", \"Bhutan\", \"Bolivia\", \"Botswana\", \"Brazil\", \"Bulgaria\", \"Burundi\", \"Cambodia\", \"Cameroon\", \"Canada\", \"Cayman Islands\", \"Chile\", \"China\", \"Colombia\", \"Congo\", \"Costa Rica\", \"Cuba\", \"Cyprus\", \"Czech Republic\", \"Dominican Republic\", \"Ecuador\", \"Egypt\", \"El Salvador\", \"Ethiopia\", \"Fiji\", \"Finland\", \"Gambia\", \"Germany\", \"Ghana\", \"Greece\", \"Guadeloupe\", \"Guatemala\", \"Guinea\", \"Haiti\", \"Honduras\", \"Hungary\", \"Iceland\", \"India\", \"Indonesia\", \"Iran\", \"Iraq\", \"Ireland\", \"Israel\", \"Italy\", \"Jamaica\", \"Japan\", \"Jordan\", \"Kazakhstan\", \"Kenya\", \"Kuwait\", \"Lebanon\", \"Libya\", \"Lithuania\", \"Madagascar\", \"Malawi\", \"Malaysia\", \"Malta\", \"Mauritius\", \"Mexico\", \"Moldova\", \"Mongolia\", \"Morocco\", \"Mozambique\", \"Myanmar\", \"Namibia\", \"Nepal\", \"New Zealand\", \"Nicaragua\", \"Nigeria\", \"Norway\", \"Oman\", \"Pakistan\", \"Panama\", \"Paraguay\", \"Peru\", \"Philippines\", \"Poland\", \"Portugal\", \"Qatar\", \"Romania\", \"Russia\", \"Rwanda\", \"Saudi Arabia\", \"Seychelles\", \"Singapore\", \"Somalia\", \"South Africa\", \"South Korea\", \"Spain\", \"Sri Lanka\", \"Sudan\", \"Sweden\", \"Switzerland\", \"Syria\", \"Tanzania\", \"Thailand\", \"Tunisia\", \"Turkey\", \"Uganda\", \"Ukraine\", \"United Arab Emirates\", \"United States\", \"Uzbekistan\", \"Venezuela\", \"Vietnam\", \"Yemen\", \"Zambia\", \"Zimbabwe\"], \"marker\": {\"line\": {\"color\": \"rgb(0,0,0)\", \"width\": 1}}, \"text\": [\"Afghanistan\", \"Albania\", \"Algeria\", \"Angola\", \"Anguilla\", \"Antigua And Barbuda\", \"Argentina\", \"Armenia\", \"Aruba\", \"Australia\", \"Austria\", \"Bahamas\", \"Bahrain\", \"Bangladesh\", \"Barbados\", \"Belarus\", \"Belgium\", \"Bhutan\", \"Bolivia\", \"Botswana\", \"Brazil\", \"Bulgaria\", \"Burundi\", \"Cambodia\", \"Cameroon\", \"Canada\", \"Cayman Islands\", \"Chile\", \"China\", \"Colombia\", \"Congo\", \"Costa Rica\", \"Cuba\", \"Cyprus\", \"Czech Republic\", \"Dominican Republic\", \"Ecuador\", \"Egypt\", \"El Salvador\", \"Ethiopia\", \"Fiji\", \"Finland\", \"Gambia\", \"Germany\", \"Ghana\", \"Greece\", \"Guadeloupe\", \"Guatemala\", \"Guinea\", \"Haiti\", \"Honduras\", \"Hungary\", \"Iceland\", \"India\", \"Indonesia\", \"Iran\", \"Iraq\", \"Ireland\", \"Israel\", \"Italy\", \"Jamaica\", \"Japan\", \"Jordan\", \"Kazakhstan\", \"Kenya\", \"Kuwait\", \"Lebanon\", \"Libya\", \"Lithuania\", \"Madagascar\", \"Malawi\", \"Malaysia\", \"Malta\", \"Mauritius\", \"Mexico\", \"Moldova\", \"Mongolia\", \"Morocco\", \"Mozambique\", \"Myanmar\", \"Namibia\", \"Nepal\", \"New Zealand\", \"Nicaragua\", \"Nigeria\", \"Norway\", \"Oman\", \"Pakistan\", \"Panama\", \"Paraguay\", \"Peru\", \"Philippines\", \"Poland\", \"Portugal\", \"Qatar\", \"Romania\", \"Russia\", \"Rwanda\", \"Saudi Arabia\", \"Seychelles\", \"Singapore\", \"Somalia\", \"South Africa\", \"South Korea\", \"Spain\", \"Sri Lanka\", \"Sudan\", \"Sweden\", \"Switzerland\", \"Syria\", \"Tanzania\", \"Thailand\", \"Tunisia\", \"Turkey\", \"Uganda\", \"Ukraine\", \"United Arab Emirates\", \"United States\", \"Uzbekistan\", \"Venezuela\", \"Vietnam\", \"Yemen\", \"Zambia\", \"Zimbabwe\"], \"type\": \"choropleth\", \"z\": [14.225853372434033, 12.885980938416438, 23.26621187683281, 21.962348973607035, 26.811416422287394, 26.638483137829887, 14.814848973607019, 8.898997067448686, 28.12114662756596, 21.74013416422289, 6.496020527859243, 25.321806593406617, 26.12002785923754, 25.096755865102647, 26.662034457478, 6.155659090909096, 9.785887829912031, 12.047171554252195, 21.063409824046897, 22.045806451612883, 24.953523460410537, 10.768482404692074, 20.199079178885633, 26.882248533724347, 24.514651026392976, -4.743583882783885, 26.934938461538422, 9.572978005865124, 6.863369501466282, 24.92542888563055, 23.914413489736035, 25.797812454212462, 25.61077509157508, 19.079391495601143, 7.9259164222874015, 25.774780952380954, 21.96163049853373, 22.91999266862169, 25.13688424908425, 23.09928885630499, 25.140714809384175, 1.6686107038123152, 27.69932771260999, 8.465712609970666, 26.900848240469205, 15.048934017595318, 26.53018548387096, 23.35293772893776, 25.647245601173026, 26.51852820512823, 24.93348571428571, 9.998906891495594, 1.7762052785923792, 24.149046187683293, 25.860538123167128, 17.828978739002924, 22.072263196480925, 9.688768328445736, 19.93921407624635, 13.01850879765394, 26.320336996336977, 12.157538123167164, 19.66679032258066, 5.550233137829911, 24.19888929618769, 25.31278152492666, 17.9565967741936, 22.565621700879777, 6.253530058651026, 22.882866568914945, 21.529648093841672, 26.032600439882657, 18.77934457478006, 23.63898167155427, 20.77236043956041, 9.23530865102639, -0.5143834310850431, 17.864281524926696, 23.704231671554258, 23.95373973607038, 20.657989736070366, 15.053331378299127, 10.522700146627558, 26.185670329670316, 26.908312316715545, 0.4680835777126105, 27.026417155425175, 20.793541788856285, 26.479690615835818, 23.479072580645145, 20.03606451612905, 26.61715249266864, 7.775436950146627, 14.924175219941352, 26.988087976539596, 9.05019941348975, -5.167612170087973, 19.37162683284459, 25.73372434017597, 26.849497800586498, 26.752522727272737, 26.96459824046924, 17.425219941348978, 12.060513929618754, 13.853804985337241, 27.2133892961877, 27.218351173020544, 2.76211217008798, 7.282969941348968, 18.256244134897376, 22.416285923753687, 26.261277126099706, 20.25118695014664, 11.936284457478, 23.15213782991202, 7.984655425219943, 27.87654618768325, 8.95423443223443, 12.584542521994155, 25.234956744868068, 23.91130498533721, 26.329659090909068, 21.39984677419359, 21.247887829912038]}],\n",
       "                        {\"geo\": {\"oceancolor\": \"rgb(0,255,255)\", \"showframe\": false, \"showocean\": true, \"type\": \"equirectangular\"}, \"title\": \"Average land temperature in countries\"},\n",
       "                        {\"responsive\": true}\n",
       "                    ).then(function(){\n",
       "                            \n",
       "var gd = document.getElementById('5b571b16-42f1-4828-ad2d-5caa111535f4');\n",
       "var x = new MutationObserver(function (mutations, observer) {{\n",
       "        var display = window.getComputedStyle(gd).display;\n",
       "        if (!display || display === 'none') {{\n",
       "            console.log([gd, 'removed!']);\n",
       "            Plotly.purge(gd);\n",
       "            observer.disconnect();\n",
       "        }}\n",
       "}});\n",
       "\n",
       "// Listen for the removal of the full notebook cells\n",
       "var notebookContainer = gd.closest('#notebook-container');\n",
       "if (notebookContainer) {{\n",
       "    x.observe(notebookContainer, {childList: true});\n",
       "}}\n",
       "\n",
       "// Listen for the clearing of the current output cell\n",
       "var outputEl = gd.closest('.output');\n",
       "if (outputEl) {{\n",
       "    x.observe(outputEl, {childList: true});\n",
       "}}\n",
       "\n",
       "                        })\n",
       "                };\n",
       "                });\n",
       "            </script>\n",
       "        </div>"
      ]
     },
     "metadata": {},
     "output_type": "display_data"
    },
    {
     "data": {
      "text/plain": [
       "<Figure size 432x288 with 0 Axes>"
      ]
     },
     "metadata": {},
     "output_type": "display_data"
    }
   ],
   "source": [
    "data = [ dict(\n",
    "        type = 'choropleth',\n",
    "        locations = countries,\n",
    "        z = mean_temp,\n",
    "        locationmode = 'country names',\n",
    "        text = countries,\n",
    "        marker = dict(\n",
    "            line = dict(color = 'rgb(0,0,0)', width = 1)),\n",
    "            colorbar = dict(autotick = True, tickprefix = '',\n",
    "            title = '# Average\\nTemperature,\\n°C'),\n",
    "        #The following line is also needed to create Stream\n",
    "        #stream = stream_id\n",
    "            )\n",
    "       ]\n",
    "\n",
    "layout = dict(\n",
    "    title = 'Average land temperature in countries',\n",
    "    geo = dict(\n",
    "        showframe = False,\n",
    "        showocean = True,\n",
    "        oceancolor = 'rgb(0,255,255)',\n",
    "        type = 'equirectangular'\n",
    "    ),\n",
    " )\n",
    "\n",
    "fig = dict(data=data, layout=layout)\n",
    "py.iplot(fig, validate=False, filename='world_temp_map')\n",
    "plt.savefig(\"../Images/AverageTemp.png\")"
   ]
  },
  {
   "cell_type": "code",
   "execution_count": null,
   "metadata": {},
   "outputs": [],
   "source": []
  }
 ],
 "metadata": {
  "kernelspec": {
   "display_name": "Python 3",
   "language": "python",
   "name": "python3"
  },
  "language_info": {
   "codemirror_mode": {
    "name": "ipython",
    "version": 3
   },
   "file_extension": ".py",
   "mimetype": "text/x-python",
   "name": "python",
   "nbconvert_exporter": "python",
   "pygments_lexer": "ipython3",
   "version": "3.7.3"
  }
 },
 "nbformat": 4,
 "nbformat_minor": 2
}
