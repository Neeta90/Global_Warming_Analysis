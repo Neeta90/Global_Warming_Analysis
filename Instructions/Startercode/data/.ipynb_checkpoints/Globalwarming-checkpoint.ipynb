{
 "cells": [
  {
   "cell_type": "code",
   "execution_count": 99,
   "metadata": {},
   "outputs": [],
   "source": [
    "from sklearn import tree\n",
    "import numpy as np\n",
    "import pandas as pd"
   ]
  },
  {
   "cell_type": "markdown",
   "metadata": {},
   "source": [
    "# Read the CSV and Perform Basic Data Cleaning"
   ]
  },
  {
   "cell_type": "code",
   "execution_count": 100,
   "metadata": {},
   "outputs": [
    {
     "data": {
      "text/html": [
       "<div>\n",
       "<style scoped>\n",
       "    .dataframe tbody tr th:only-of-type {\n",
       "        vertical-align: middle;\n",
       "    }\n",
       "\n",
       "    .dataframe tbody tr th {\n",
       "        vertical-align: top;\n",
       "    }\n",
       "\n",
       "    .dataframe thead th {\n",
       "        text-align: right;\n",
       "    }\n",
       "</style>\n",
       "<table border=\"1\" class=\"dataframe\">\n",
       "  <thead>\n",
       "    <tr style=\"text-align: right;\">\n",
       "      <th></th>\n",
       "      <th>Country</th>\n",
       "      <th>Year</th>\n",
       "      <th>Other sources (tonnes)</th>\n",
       "      <th>Waste (tonnes)</th>\n",
       "      <th>Industry (tonnes)</th>\n",
       "      <th>Residential &amp; commercial (tonnes)</th>\n",
       "      <th>Agriculture (tonnes)</th>\n",
       "      <th>Forestry (tonnes)</th>\n",
       "      <th>Land use sources (tonnes)</th>\n",
       "      <th>Energy (tonnes)</th>\n",
       "    </tr>\n",
       "  </thead>\n",
       "  <tbody>\n",
       "    <tr>\n",
       "      <th>0</th>\n",
       "      <td>United Arab Emirates</td>\n",
       "      <td>1990</td>\n",
       "      <td>310527.5</td>\n",
       "      <td>444504.5</td>\n",
       "      <td>2785570.6</td>\n",
       "      <td>306752.7</td>\n",
       "      <td>497680.5</td>\n",
       "      <td>-1191666.7</td>\n",
       "      <td>0.0</td>\n",
       "      <td>56556074.5</td>\n",
       "    </tr>\n",
       "    <tr>\n",
       "      <th>1</th>\n",
       "      <td>United Arab Emirates</td>\n",
       "      <td>1991</td>\n",
       "      <td>331608.4</td>\n",
       "      <td>471386.3</td>\n",
       "      <td>3177115.8</td>\n",
       "      <td>288389.3</td>\n",
       "      <td>559625.6</td>\n",
       "      <td>-1191666.7</td>\n",
       "      <td>0.0</td>\n",
       "      <td>63231831.6</td>\n",
       "    </tr>\n",
       "    <tr>\n",
       "      <th>2</th>\n",
       "      <td>United Arab Emirates</td>\n",
       "      <td>1992</td>\n",
       "      <td>334097.6</td>\n",
       "      <td>500099.0</td>\n",
       "      <td>3265566.2</td>\n",
       "      <td>280010.3</td>\n",
       "      <td>621645.6</td>\n",
       "      <td>-1191666.7</td>\n",
       "      <td>0.0</td>\n",
       "      <td>61630923.9</td>\n",
       "    </tr>\n",
       "    <tr>\n",
       "      <th>3</th>\n",
       "      <td>United Arab Emirates</td>\n",
       "      <td>1993</td>\n",
       "      <td>355901.4</td>\n",
       "      <td>532860.7</td>\n",
       "      <td>3267567.5</td>\n",
       "      <td>816398.0</td>\n",
       "      <td>661976.1</td>\n",
       "      <td>-1191666.7</td>\n",
       "      <td>0.0</td>\n",
       "      <td>62711303.6</td>\n",
       "    </tr>\n",
       "    <tr>\n",
       "      <th>4</th>\n",
       "      <td>United Arab Emirates</td>\n",
       "      <td>1994</td>\n",
       "      <td>368164.2</td>\n",
       "      <td>565969.6</td>\n",
       "      <td>3578521.7</td>\n",
       "      <td>948585.1</td>\n",
       "      <td>727983.6</td>\n",
       "      <td>-1191666.7</td>\n",
       "      <td>0.0</td>\n",
       "      <td>69018296.4</td>\n",
       "    </tr>\n",
       "  </tbody>\n",
       "</table>\n",
       "</div>"
      ],
      "text/plain": [
       "                Country  Year  Other sources (tonnes)  Waste (tonnes)  \\\n",
       "0  United Arab Emirates  1990                310527.5        444504.5   \n",
       "1  United Arab Emirates  1991                331608.4        471386.3   \n",
       "2  United Arab Emirates  1992                334097.6        500099.0   \n",
       "3  United Arab Emirates  1993                355901.4        532860.7   \n",
       "4  United Arab Emirates  1994                368164.2        565969.6   \n",
       "\n",
       "   Industry (tonnes)  Residential & commercial (tonnes)  Agriculture (tonnes)  \\\n",
       "0          2785570.6                           306752.7              497680.5   \n",
       "1          3177115.8                           288389.3              559625.6   \n",
       "2          3265566.2                           280010.3              621645.6   \n",
       "3          3267567.5                           816398.0              661976.1   \n",
       "4          3578521.7                           948585.1              727983.6   \n",
       "\n",
       "   Forestry (tonnes)  Land use sources (tonnes)  Energy (tonnes)  \n",
       "0         -1191666.7                        0.0       56556074.5  \n",
       "1         -1191666.7                        0.0       63231831.6  \n",
       "2         -1191666.7                        0.0       61630923.9  \n",
       "3         -1191666.7                        0.0       62711303.6  \n",
       "4         -1191666.7                        0.0       69018296.4  "
      ]
     },
     "execution_count": 100,
     "metadata": {},
     "output_type": "execute_result"
    }
   ],
   "source": [
    "df= pd.read_csv(\"greenhouse-gas-emissions-by-sector-cleaned.csv\")\n",
    "# Drop the null columns where all values are null\n",
    "df = df.dropna(axis='columns', how=\"any\")\n",
    "# Drop the null rows\n",
    "#df = df.dropna()\n",
    "\n",
    "df.head()"
   ]
  },
  {
   "cell_type": "markdown",
   "metadata": {},
   "source": [
    "# Select your features (columns)"
   ]
  },
  {
   "cell_type": "code",
   "execution_count": 101,
   "metadata": {},
   "outputs": [
    {
     "name": "stdout",
     "output_type": "stream",
     "text": [
      "(2656, 2) (2656,)\n"
     ]
    }
   ],
   "source": [
    "# Set features. This will also be used as your x values.\n",
    "X =df[[\"Agriculture (tonnes)\",\"Industry (tonnes)\", Forestry (tonnes)[[]]\n",
    "y =df[\"Energy (tonnes)\"].values\n",
    "\n",
    "print(X.shape, y.shape)\n"
   ]
  },
  {
   "cell_type": "markdown",
   "metadata": {},
   "source": [
    "# Create a Train Test Split"
   ]
  },
  {
   "cell_type": "code",
   "execution_count": 102,
   "metadata": {},
   "outputs": [],
   "source": [
    "# Split the data into training and testing\n",
    "\n",
    "### BEGIN SOLUTION\n",
    "from sklearn.model_selection import train_test_split\n",
    "\n",
    "X_train, X_test,y_train, y_test = train_test_split(X, y, random_state=42)"
   ]
  },
  {
   "cell_type": "code",
   "execution_count": 103,
   "metadata": {},
   "outputs": [
    {
     "data": {
      "text/plain": [
       "array([1.94183566e+07, 2.45230700e+05, 8.70255250e+06, ...,\n",
       "       2.84954669e+07, 2.41741876e+08, 3.96496690e+06])"
      ]
     },
     "execution_count": 103,
     "metadata": {},
     "output_type": "execute_result"
    }
   ],
   "source": [
    "y_train\n"
   ]
  },
  {
   "cell_type": "markdown",
   "metadata": {},
   "source": [
    "##DECISION TREE"
   ]
  },
  {
   "cell_type": "code",
   "execution_count": 104,
   "metadata": {},
   "outputs": [],
   "source": [
    "#clf = tree.DecisionTreeClassifier()\n",
    "#clf = clf.fit(X_train, y_train)\n",
    "#clf.score(X_test, y_test)"
   ]
  },
  {
   "cell_type": "code",
   "execution_count": 105,
   "metadata": {},
   "outputs": [],
   "source": [
    "import numpy as np\n",
    "from sklearn                        import metrics, svm\n",
    "from sklearn.linear_model           import LogisticRegression\n",
    "from sklearn import preprocessing\n",
    "from sklearn import utils"
   ]
  },
  {
   "cell_type": "code",
   "execution_count": 106,
   "metadata": {},
   "outputs": [],
   "source": [
    "#clf = LogisticRegression()\n",
    "#clf.fit(X_train,y_train)"
   ]
  },
  {
   "cell_type": "code",
   "execution_count": 107,
   "metadata": {},
   "outputs": [
    {
     "name": "stdout",
     "output_type": "stream",
     "text": [
      "[1017  122  811 ... 1109 1780  628]\n",
      "continuous\n",
      "multiclass\n",
      "multiclass\n"
     ]
    }
   ],
   "source": [
    "lab_enc = preprocessing.LabelEncoder()\n",
    "training_scores_encoded = lab_enc.fit_transform(y_train)\n",
    "print(training_scores_encoded)\n",
    "print(utils.multiclass.type_of_target(y_train))\n",
    "print(utils.multiclass.type_of_target(y_train.astype('int')))\n",
    "print(utils.multiclass.type_of_target(training_scores_encoded))"
   ]
  },
  {
   "cell_type": "code",
   "execution_count": 111,
   "metadata": {},
   "outputs": [],
   "source": [
    "#clf = LogisticRegression()\n",
    "#clf.fit(X_train, training_scores_encoded)\n",
    "#print(\"LogisticRegression\")\n",
    "#print(clf.predict(prediction_data_test))"
   ]
  },
  {
   "cell_type": "code",
   "execution_count": 109,
   "metadata": {},
   "outputs": [
    {
     "data": {
      "text/plain": [
       "0.9955239687242604"
      ]
     },
     "execution_count": 109,
     "metadata": {},
     "output_type": "execute_result"
    }
   ],
   "source": [
    "#from sklearn.ensemble import RandomForestClassifier\n",
    "#sklearn.ensemble.RandomForestRegressor\n",
    "from sklearn.ensemble import RandomForestRegressor\n",
    "\n",
    "rf = RandomForestRegressor(n_estimators=200)\n",
    "rf = rf.fit(X_train, y_train)\n",
    "rf.score(X_test, y_test)"
   ]
  },
  {
   "cell_type": "code",
   "execution_count": 110,
   "metadata": {},
   "outputs": [
    {
     "data": {
      "text/plain": [
       "[(0.9331768163389285, 'Industry (tonnes)'),\n",
       " (0.0668231836610714, 'Agriculture (tonnes)')]"
      ]
     },
     "execution_count": 110,
     "metadata": {},
     "output_type": "execute_result"
    }
   ],
   "source": [
    "sorted(zip(rf.feature_importances_,X), reverse=True)\n"
   ]
  },
  {
   "cell_type": "markdown",
   "metadata": {},
   "source": [
    "# Train the Model"
   ]
  },
  {
   "cell_type": "code",
   "execution_count": null,
   "metadata": {},
   "outputs": [],
   "source": []
  },
  {
   "cell_type": "code",
   "execution_count": null,
   "metadata": {},
   "outputs": [],
   "source": []
  },
  {
   "cell_type": "code",
   "execution_count": null,
   "metadata": {},
   "outputs": [],
   "source": []
  }
 ],
 "metadata": {
  "kernelspec": {
   "display_name": "Python 3",
   "language": "python",
   "name": "python3"
  },
  "language_info": {
   "codemirror_mode": {
    "name": "ipython",
    "version": 3
   },
   "file_extension": ".py",
   "mimetype": "text/x-python",
   "name": "python",
   "nbconvert_exporter": "python",
   "pygments_lexer": "ipython3",
   "version": "3.7.3"
  }
 },
 "nbformat": 4,
 "nbformat_minor": 2
}
